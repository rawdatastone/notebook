{
 "cells": [
  {
   "cell_type": "code",
   "execution_count": 1,
   "metadata": {},
   "outputs": [],
   "source": [
    "from random import randint\n",
    "from dataclasses import dataclass"
   ]
  },
  {
   "cell_type": "code",
   "execution_count": 36,
   "metadata": {},
   "outputs": [],
   "source": [
    "with open('100_names.txt','r') as f:\n",
    "    names=f.readlines()\n",
    "    names=[name.replace('\\n','') for name in names]"
   ]
  },
  {
   "cell_type": "code",
   "execution_count": 37,
   "metadata": {},
   "outputs": [],
   "source": [
    "class Person:\n",
    "    def __init__(self, name, resources):\n",
    "        super().__init__()\n",
    "        self.name=name\n",
    "        self.resources=resources\n",
    "    \n",
    "    def take_resources(self):\n",
    "        '''increase resources by 1'''\n",
    "        self.resources+=1\n",
    "\n",
    "    def give_resources(self):\n",
    "        '''decrease resources by 1'''\n",
    "        self.resources-=1\n",
    "\n",
    "    def check_resources(self):\n",
    "        '''return resources total'''\n",
    "        return self.resources"
   ]
  },
  {
   "cell_type": "code",
   "execution_count": 51,
   "metadata": {},
   "outputs": [],
   "source": [
    "names=['Alice','Sam']\n",
    "traders=[Person(name,randint(1,10)) for name in names]\n",
    "# for name in names:\n",
    "#     name=Person(name,10)\n",
    "\n"
   ]
  },
  {
   "cell_type": "code",
   "execution_count": 39,
   "metadata": {},
   "outputs": [
    {
     "data": {
      "text/plain": [
       "'Alice'"
      ]
     },
     "execution_count": 39,
     "metadata": {},
     "output_type": "execute_result"
    }
   ],
   "source": [
    "traders[0].name"
   ]
  },
  {
   "cell_type": "code",
   "execution_count": 40,
   "metadata": {},
   "outputs": [
    {
     "data": {
      "text/plain": [
       "10"
      ]
     },
     "execution_count": 40,
     "metadata": {},
     "output_type": "execute_result"
    }
   ],
   "source": [
    "traders[0].resources"
   ]
  },
  {
   "cell_type": "code",
   "execution_count": 52,
   "metadata": {},
   "outputs": [],
   "source": [
    "trader_names=[trader.name for trader in traders]\n",
    "trader_resources=[trader.resources for trader in traders]\n"
   ]
  },
  {
   "cell_type": "code",
   "execution_count": 53,
   "metadata": {},
   "outputs": [
    {
     "data": {
      "text/plain": [
       "{'Alice': 9, 'Sam': 8}"
      ]
     },
     "execution_count": 53,
     "metadata": {},
     "output_type": "execute_result"
    }
   ],
   "source": [
    "data=zip(trader_names,trader_resources)\n",
    "dict(data)"
   ]
  },
  {
   "cell_type": "markdown",
   "metadata": {},
   "source": [
    "### consolidation and switch away from clasess"
   ]
  },
  {
   "cell_type": "code",
   "execution_count": 109,
   "metadata": {},
   "outputs": [],
   "source": [
    "from random import randint\n",
    "\n",
    "with open('100_names.txt','r') as f:\n",
    "    names=f.readlines()\n",
    "    names=[name.replace('\\n','') for name in names]\n",
    "\n",
    "traders_data=[]\n",
    "traders=[traders_data.append({\"name\":name,\"current_resources\":10, \"resources_history\":[10]}) for name in names]\n",
    "\n",
    "# traders_data=zip(trader_names,trader_resources)\n",
    "# traders_data=dict(traders_data)"
   ]
  },
  {
   "cell_type": "code",
   "execution_count": 117,
   "metadata": {},
   "outputs": [
    {
     "data": {
      "text/plain": [
       "[{'name': 'Noah', 'current_resources': 10, 'resources_history': [10]},\n",
       " {'name': 'Oliver', 'current_resources': 10, 'resources_history': [10]},\n",
       " {'name': 'George', 'current_resources': 10, 'resources_history': [10]},\n",
       " {'name': 'Leo', 'current_resources': 10, 'resources_history': [10]},\n",
       " {'name': 'Theo', 'current_resources': 10, 'resources_history': [10]},\n",
       " {'name': 'Arthur', 'current_resources': 10, 'resources_history': [10]},\n",
       " {'name': 'Freddie', 'current_resources': 10, 'resources_history': [10]},\n",
       " {'name': 'Harry', 'current_resources': 10, 'resources_history': [10]},\n",
       " {'name': 'Charlie', 'current_resources': 10, 'resources_history': [10]},\n",
       " {'name': 'Jack', 'current_resources': 10, 'resources_history': [10]},\n",
       " {'name': 'Archie', 'current_resources': 10, 'resources_history': [10]},\n",
       " {'name': 'Oscar', 'current_resources': 10, 'resources_history': [10]},\n",
       " {'name': 'Henry', 'current_resources': 10, 'resources_history': [10]},\n",
       " {'name': 'Alfie', 'current_resources': 10, 'resources_history': [10]},\n",
       " {'name': 'Jacob', 'current_resources': 10, 'resources_history': [10]},\n",
       " {'name': 'Finley', 'current_resources': 10, 'resources_history': [10]},\n",
       " {'name': 'Teddy', 'current_resources': 10, 'resources_history': [10]},\n",
       " {'name': 'Tommy', 'current_resources': 10, 'resources_history': [10]},\n",
       " {'name': 'Thomas', 'current_resources': 10, 'resources_history': [10]},\n",
       " {'name': 'Lucas', 'current_resources': 10, 'resources_history': [10]},\n",
       " {'name': 'Roman', 'current_resources': 10, 'resources_history': [10]},\n",
       " {'name': 'Isaac', 'current_resources': 10, 'resources_history': [10]},\n",
       " {'name': 'Max', 'current_resources': 10, 'resources_history': [10]},\n",
       " {'name': 'Theodore', 'current_resources': 10, 'resources_history': [10]},\n",
       " {'name': 'Elijah', 'current_resources': 10, 'resources_history': [10]},\n",
       " {'name': 'Albie', 'current_resources': 10, 'resources_history': [10]},\n",
       " {'name': 'Mason', 'current_resources': 10, 'resources_history': [10]},\n",
       " {'name': 'Logan', 'current_resources': 10, 'resources_history': [10]},\n",
       " {'name': 'Joshua', 'current_resources': 10, 'resources_history': [10]},\n",
       " {'name': 'Harrison', 'current_resources': 10, 'resources_history': [10]},\n",
       " {'name': 'James', 'current_resources': 10, 'resources_history': [10]},\n",
       " {'name': 'William', 'current_resources': 10, 'resources_history': [10]},\n",
       " {'name': 'Ethan', 'current_resources': 10, 'resources_history': [10]},\n",
       " {'name': 'Reuben', 'current_resources': 10, 'resources_history': [10]},\n",
       " {'name': 'Reggie', 'current_resources': 10, 'resources_history': [10]},\n",
       " {'name': 'Rory', 'current_resources': 10, 'resources_history': [10]},\n",
       " {'name': 'Alexander', 'current_resources': 10, 'resources_history': [10]},\n",
       " {'name': 'Louie', 'current_resources': 10, 'resources_history': [10]},\n",
       " {'name': 'Luca', 'current_resources': 10, 'resources_history': [10]},\n",
       " {'name': 'Hunter', 'current_resources': 10, 'resources_history': [10]},\n",
       " {'name': 'Ezra', 'current_resources': 10, 'resources_history': [10]},\n",
       " {'name': 'Ronnie', 'current_resources': 10, 'resources_history': [10]},\n",
       " {'name': 'Sebastian', 'current_resources': 10, 'resources_history': [10]},\n",
       " {'name': 'Adam', 'current_resources': 10, 'resources_history': [10]},\n",
       " {'name': 'Hugo', 'current_resources': 10, 'resources_history': [10]},\n",
       " {'name': 'Jude', 'current_resources': 10, 'resources_history': [10]},\n",
       " {'name': 'Hudson', 'current_resources': 10, 'resources_history': [10]},\n",
       " {'name': 'Dylan', 'current_resources': 10, 'resources_history': [10]},\n",
       " {'name': 'Alex', 'current_resources': 10, 'resources_history': [10]},\n",
       " {'name': 'Zachary', 'current_resources': 10, 'resources_history': [10]},\n",
       " {'name': 'Jaxon', 'current_resources': 10, 'resources_history': [10]},\n",
       " {'name': 'Joseph', 'current_resources': 10, 'resources_history': [10]},\n",
       " {'name': 'Benjamin', 'current_resources': 10, 'resources_history': [10]},\n",
       " {'name': 'Edward', 'current_resources': 10, 'resources_history': [10]},\n",
       " {'name': 'Grayson', 'current_resources': 10, 'resources_history': [10]},\n",
       " {'name': 'Ollie', 'current_resources': 10, 'resources_history': [10]},\n",
       " {'name': 'Oakley', 'current_resources': 10, 'resources_history': [10]},\n",
       " {'name': 'Toby', 'current_resources': 10, 'resources_history': [10]},\n",
       " {'name': 'Louis', 'current_resources': 10, 'resources_history': [10]},\n",
       " {'name': 'Riley', 'current_resources': 10, 'resources_history': [10]},\n",
       " {'name': 'Caleb', 'current_resources': 10, 'resources_history': [10]},\n",
       " {'name': 'Daniel', 'current_resources': 10, 'resources_history': [10]},\n",
       " {'name': 'Rowan', 'current_resources': 10, 'resources_history': [10]},\n",
       " {'name': 'Carter', 'current_resources': 10, 'resources_history': [10]},\n",
       " {'name': 'Ellis', 'current_resources': 10, 'resources_history': [10]},\n",
       " {'name': 'Chester', 'current_resources': 10, 'resources_history': [10]},\n",
       " {'name': 'Blake', 'current_resources': 10, 'resources_history': [10]},\n",
       " {'name': 'Bobby', 'current_resources': 10, 'resources_history': [10]},\n",
       " {'name': 'Frankie', 'current_resources': 10, 'resources_history': [10]},\n",
       " {'name': 'Finn', 'current_resources': 10, 'resources_history': [10]},\n",
       " {'name': 'Jackson', 'current_resources': 10, 'resources_history': [10]},\n",
       " {'name': 'Liam', 'current_resources': 10, 'resources_history': [10]},\n",
       " {'name': 'Harvey', 'current_resources': 10, 'resources_history': [10]},\n",
       " {'name': 'Jake', 'current_resources': 10, 'resources_history': [10]},\n",
       " {'name': 'Jenson', 'current_resources': 10, 'resources_history': [10]},\n",
       " {'name': 'Lewis', 'current_resources': 10, 'resources_history': [10]},\n",
       " {'name': 'Elliot', 'current_resources': 10, 'resources_history': [10]},\n",
       " {'name': 'Kai', 'current_resources': 10, 'resources_history': [10]},\n",
       " {'name': 'Nathan', 'current_resources': 10, 'resources_history': [10]},\n",
       " {'name': 'Samuel', 'current_resources': 10, 'resources_history': [10]},\n",
       " {'name': 'Albert', 'current_resources': 10, 'resources_history': [10]},\n",
       " {'name': 'Elliott', 'current_resources': 10, 'resources_history': [10]},\n",
       " {'name': 'Jasper', 'current_resources': 10, 'resources_history': [10]},\n",
       " {'name': 'Eli', 'current_resources': 10, 'resources_history': [10]},\n",
       " {'name': 'Cody', 'current_resources': 10, 'resources_history': [10]},\n",
       " {'name': 'Myles', 'current_resources': 10, 'resources_history': [10]},\n",
       " {'name': 'Ryan', 'current_resources': 10, 'resources_history': [10]},\n",
       " {'name': 'Ralph', 'current_resources': 10, 'resources_history': [10]},\n",
       " {'name': 'Michael', 'current_resources': 10, 'resources_history': [10]},\n",
       " {'name': 'Yusuf', 'current_resources': 10, 'resources_history': [10]},\n",
       " {'name': 'Jayden', 'current_resources': 10, 'resources_history': [10]},\n",
       " {'name': 'Stanley', 'current_resources': 10, 'resources_history': [10]},\n",
       " {'name': 'Matthew', 'current_resources': 10, 'resources_history': [10]},\n",
       " {'name': 'Brody', 'current_resources': 10, 'resources_history': [10]},\n",
       " {'name': 'Gabriel', 'current_resources': 10, 'resources_history': [10]},\n",
       " {'name': 'Jesse', 'current_resources': 10, 'resources_history': [10]},\n",
       " {'name': 'Felix', 'current_resources': 10, 'resources_history': [10]},\n",
       " {'name': 'Leon', 'current_resources': 10, 'resources_history': [10]},\n",
       " {'name': 'David', 'current_resources': 10, 'resources_history': [10]},\n",
       " {'name': 'Bob', 'current_resources': 10, 'resources_history': [10]}]"
      ]
     },
     "execution_count": 117,
     "metadata": {},
     "output_type": "execute_result"
    }
   ],
   "source": [
    "traders_data"
   ]
  },
  {
   "cell_type": "code",
   "execution_count": 131,
   "metadata": {},
   "outputs": [],
   "source": [
    "resource_check=[(trader[\"current_resources\"]) for trader in traders_data if trader[\"current_resources\"] >=1]"
   ]
  },
  {
   "cell_type": "code",
   "execution_count": null,
   "metadata": {},
   "outputs": [
    {
     "data": {
      "text/plain": [
       "{'name': 'Noah', 'resources': 10}"
      ]
     },
     "execution_count": 108,
     "metadata": {},
     "output_type": "execute_result"
    }
   ],
   "source": [
    "def determine_next_turn(traders_data, turn_counter):\n",
    "    '''check if more than 1 person has \"current_resources\" > 1 and return a turn counter or stop run '''\n",
    "    resource_check=[(trader[\"current_resources\"]) for trader in traders_data if trader[\"current_resources\"] >=1]\n",
    "    if len(resource_check) > 1:\n",
    "        turn_counter+=1\n",
    "\n",
    "        return turn_counter\n",
    "    else: \n",
    "        return 0"
   ]
  },
  {
   "cell_type": "code",
   "execution_count": 182,
   "metadata": {},
   "outputs": [
    {
     "name": "stdout",
     "output_type": "stream",
     "text": [
      "[24, 11]\n",
      "24\n"
     ]
    }
   ],
   "source": [
    "from random import randint, choice\n",
    "\n",
    "def determine_next_turn(traders_data, turn_counter):\n",
    "    '''check if more than 1 person has \"current_resources\" > 1 and return a turn counter or stop run '''\n",
    "    resource_check=[(trader[\"current_resources\"]) for trader in traders_data if trader[\"current_resources\"] >=1]\n",
    "    if len(resource_check) > 1:\n",
    "        turn_counter+=1\n",
    "\n",
    "        return turn_counter\n",
    "    else: \n",
    "        return 0\n",
    "\n",
    "with open('100_names.txt','r') as f:\n",
    "    names=f.readlines()\n",
    "    names=[name.replace('\\n','') for name in names]\n",
    "\n",
    "turn_counter = 1\n",
    "traders_data=[]\n",
    "traders=[traders_data.append({\"name\":name,\"current_resources\":10, \"resources_history\":[10]}) for name in names]\n",
    "\n",
    "\n",
    "if determine_next_turn(traders_data, turn_counter)==0:\n",
    "    # stop the run\n",
    "    with open(filename,\"w\") as file:\n",
    "        file.write(traders_data)\n",
    "    print(\"program ended\")\n",
    "else: \n",
    "    # create pairs, trade, update data\n",
    "    que=[]\n",
    "    x=[que.append(i) for i in range(0,100)]\n",
    "    #pop two element at random from que and create a pair for trading\n",
    "    pair=[]\n",
    "    for i in range(1,3):\n",
    "        pair.append(que.pop(choice(que))) \n",
    "\n",
    "    # use the pair to trade between the traders\n",
    "    # select which of the two traders will recieve resources of the other\n",
    "    winner = choice(pair)\n",
    "    \n",
    "    \n",
    "    print(pair)\n",
    "    print(winner)\n",
    "\n"
   ]
  },
  {
   "cell_type": "code",
   "execution_count": 169,
   "metadata": {},
   "outputs": [],
   "source": [
    "que=[]\n",
    "x=[que.append(i) for i in range(0,100)]\n"
   ]
  },
  {
   "cell_type": "code",
   "execution_count": 176,
   "metadata": {},
   "outputs": [
    {
     "data": {
      "text/plain": [
       "6"
      ]
     },
     "execution_count": 176,
     "metadata": {},
     "output_type": "execute_result"
    }
   ],
   "source": [
    "que.pop(choice(que))"
   ]
  },
  {
   "cell_type": "code",
   "execution_count": 180,
   "metadata": {},
   "outputs": [
    {
     "name": "stdout",
     "output_type": "stream",
     "text": [
      "1\n",
      "2\n"
     ]
    }
   ],
   "source": [
    "for i in range(1,3):\n",
    "    print(i)"
   ]
  },
  {
   "cell_type": "code",
   "execution_count": 7,
   "metadata": {},
   "outputs": [
    {
     "name": "stdout",
     "output_type": "stream",
     "text": [
      "listA: [0, 1, 2, 3, 4, 5]\n",
      "listB: [0, 1, 2, 3, 4, 5]\n",
      "listC: [0, 1, 2, 3, 4, 5]\n",
      "Pop from ListB: 5\n",
      "Pop from ListB: 4\n",
      "Pop from ListB: 3\n",
      "listA: [0, 1, 2]\n",
      "listB: [0, 1, 2]\n",
      "listC: [0, 1, 2, 3, 4, 5]\n"
     ]
    }
   ],
   "source": [
    "listA = [0,1,2,3,4,5]\n",
    "listB = listA\n",
    "listC = list(listA)\n",
    "\n",
    "print(f'listA: {listA}')\n",
    "print(f'listB: {listB}')\n",
    "print(f'listC: {listC}')\n",
    "\n",
    "\n",
    "for i in range(3):\n",
    "    print(f'Pop from ListB: {listB.pop(-1)}')\n",
    "    \n",
    "\n",
    "print(f'listA: {listA}')\n",
    "print(f'listB: {listB}')\n",
    "print(f'listC: {listC}')\n"
   ]
  },
  {
   "cell_type": "code",
   "execution_count": 28,
   "metadata": {},
   "outputs": [
    {
     "data": {
      "text/plain": [
       "10"
      ]
     },
     "execution_count": 28,
     "metadata": {},
     "output_type": "execute_result"
    }
   ],
   "source": [
    "listA =[\n",
    "        [0,10],\n",
    "        [1,11],\n",
    "        [2,12],\n",
    "        [3,13],\n",
    "        [4,14],\n",
    "        [5,15]\n",
    "    ]\n",
    "listA[0][1]"
   ]
  },
  {
   "cell_type": "code",
   "execution_count": 18,
   "metadata": {},
   "outputs": [
    {
     "name": "stdout",
     "output_type": "stream",
     "text": [
      "listA: [[0, 10], [1, 11], [2, 12], [3, 13], [4, 14], [5, 15]]\n",
      "Pop Item 12\n"
     ]
    }
   ],
   "source": [
    "listA =[\n",
    "        [0,10],\n",
    "        [1,11],\n",
    "        [2,12],\n",
    "        [3,13],\n",
    "        [4,14],\n",
    "        [5,15]\n",
    "    ]\n",
    "i=2\n",
    "print(f'listA: {listA}')\n",
    "print(f'Pop Item {listA.pop(i)[1]}')\n",
    "# for i in range(3):\n",
    "#     print(f'Pop from ListB: {listB.pop(-1)}')"
   ]
  },
  {
   "cell_type": "code",
   "execution_count": 27,
   "metadata": {},
   "outputs": [
    {
     "data": {
      "text/plain": [
       "6"
      ]
     },
     "execution_count": 27,
     "metadata": {},
     "output_type": "execute_result"
    }
   ],
   "source": [
    "from random import randint, randrange\n",
    "\n",
    "#randint(0,3)\n",
    "randrange(0,10)"
   ]
  },
  {
   "cell_type": "code",
   "execution_count": 25,
   "metadata": {},
   "outputs": [
    {
     "name": "stdout",
     "output_type": "stream",
     "text": [
      "6\n",
      "Pop from ListB: 0\n",
      "5\n",
      "Pop from ListB: 1\n",
      "\n",
      "4\n",
      "Pop from ListB: 2\n",
      "3\n",
      "Pop from ListB: 3\n",
      "\n",
      "2\n",
      "Pop from ListB: 4\n",
      "1\n",
      "Pop from ListB: 5\n",
      "\n"
     ]
    }
   ],
   "source": [
    "listA = [0,1,2,3,4,5]\n",
    "\n",
    "while len(listA)>0:\n",
    "    print(len(listA))\n",
    "    print(f'Pop from ListB: {listA.pop(0)}')\n",
    "    print(len(listA))\n",
    "    print(f'Pop from ListB: {listA.pop(0)}')\n",
    "    print('')\n",
    "    "
   ]
  }
 ],
 "metadata": {
  "interpreter": {
   "hash": "c185583211afe249b1650fce2293e3034b2e172003b3823dcb9e568f522ec5f6"
  },
  "kernelspec": {
   "display_name": "Python 3.9.5 64-bit ('venv': venv)",
   "language": "python",
   "name": "python3"
  },
  "language_info": {
   "codemirror_mode": {
    "name": "ipython",
    "version": 3
   },
   "file_extension": ".py",
   "mimetype": "text/x-python",
   "name": "python",
   "nbconvert_exporter": "python",
   "pygments_lexer": "ipython3",
   "version": "3.9.5"
  },
  "orig_nbformat": 4
 },
 "nbformat": 4,
 "nbformat_minor": 2
}
