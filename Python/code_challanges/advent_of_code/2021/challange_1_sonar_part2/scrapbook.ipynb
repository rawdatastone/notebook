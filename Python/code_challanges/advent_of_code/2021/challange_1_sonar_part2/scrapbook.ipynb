{
 "cells": [
  {
   "cell_type": "code",
   "execution_count": 1,
   "metadata": {},
   "outputs": [],
   "source": [
    "with open('input.txt','r') as file:\n",
    "    input_data=file.readlines()\n",
    "    input_data=[int(line) for line in input_data]\n"
   ]
  },
  {
   "cell_type": "code",
   "execution_count": 9,
   "metadata": {},
   "outputs": [],
   "source": [
    "previous_reading = 0\n",
    "input_interpretation=[]\n",
    "number_of_readings=len(input_data)\n",
    "\n",
    "for i in range(number_of_readings-2):\n",
    "    current_reading = input_data[i] + input_data[i+1] + input_data[i+2]\n",
    "    if current_reading > previous_reading:\n",
    "        input_interpretation.append(1)\n",
    "    else:\n",
    "        input_interpretation.append(0)\n",
    "    previous_reading=current_reading\n",
    "# For the first reading there is no previous value so it should be empty\n",
    "input_interpretation[0]=0"
   ]
  },
  {
   "cell_type": "code",
   "execution_count": 10,
   "metadata": {},
   "outputs": [
    {
     "data": {
      "text/plain": [
       "1127"
      ]
     },
     "execution_count": 10,
     "metadata": {},
     "output_type": "execute_result"
    }
   ],
   "source": [
    "sum(input_interpretation)"
   ]
  }
 ],
 "metadata": {
  "interpreter": {
   "hash": "50c7046bc8b77d3be188a41196430849870c82c1a88835aaa694fab5992d6cd4"
  },
  "kernelspec": {
   "display_name": "PowerShell",
   "language": "python",
   "name": "python3"
  },
  "language_info": {
   "codemirror_mode": {
    "name": "ipython",
    "version": 3
   },
   "file_extension": ".py",
   "mimetype": "text/x-python",
   "name": "python",
   "nbconvert_exporter": "python",
   "pygments_lexer": "ipython3",
   "version": "3.9.5"
  },
  "orig_nbformat": 4
 },
 "nbformat": 4,
 "nbformat_minor": 2
}
