{
 "cells": [
  {
   "cell_type": "code",
   "execution_count": 12,
   "metadata": {},
   "outputs": [],
   "source": [
    "with open('input.txt','r') as file:\n",
    "    input_data=file.readlines()\n",
    "    input_data=[int(line) for line in input_data]\n"
   ]
  },
  {
   "cell_type": "code",
   "execution_count": 17,
   "metadata": {},
   "outputs": [],
   "source": [
    "#previous_reading = 0\n",
    "input_interpretation=[]\n",
    "for reading in input_data:\n",
    "    if reading > previous_reading:\n",
    "        input_interpretation.append(1)\n",
    "    else:\n",
    "        input_interpretation.append(0)\n",
    "    previous_reading=reading\n",
    "# For the first reading there is no previous value so it should be empty\n",
    "# input_interpretation[0]=0"
   ]
  },
  {
   "cell_type": "code",
   "execution_count": 18,
   "metadata": {},
   "outputs": [
    {
     "data": {
      "text/plain": [
       "1154"
      ]
     },
     "execution_count": 18,
     "metadata": {},
     "output_type": "execute_result"
    }
   ],
   "source": [
    "sum(input_interpretation)"
   ]
  }
 ],
 "metadata": {
  "interpreter": {
   "hash": "50c7046bc8b77d3be188a41196430849870c82c1a88835aaa694fab5992d6cd4"
  },
  "kernelspec": {
   "display_name": "PowerShell",
   "language": "python",
   "name": "python3"
  },
  "language_info": {
   "codemirror_mode": {
    "name": "ipython",
    "version": 3
   },
   "file_extension": ".py",
   "mimetype": "text/x-python",
   "name": "python",
   "nbconvert_exporter": "python",
   "pygments_lexer": "ipython3",
   "version": "3.7.9"
  },
  "orig_nbformat": 4
 },
 "nbformat": 4,
 "nbformat_minor": 2
}
