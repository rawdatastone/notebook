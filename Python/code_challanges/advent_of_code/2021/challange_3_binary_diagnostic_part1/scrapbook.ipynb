{
 "cells": [
  {
   "cell_type": "code",
   "execution_count": 80,
   "metadata": {},
   "outputs": [],
   "source": [
    "input_data = ('00100','11110','10110','10111','10101','01111','00111','11100','10000','11001','00010','01010',)"
   ]
  },
  {
   "cell_type": "code",
   "execution_count": 81,
   "metadata": {},
   "outputs": [
    {
     "data": {
      "text/plain": [
       "('00100',\n",
       " '11110',\n",
       " '10110',\n",
       " '10111',\n",
       " '10101',\n",
       " '01111',\n",
       " '00111',\n",
       " '11100',\n",
       " '10000',\n",
       " '11001',\n",
       " '00010',\n",
       " '01010')"
      ]
     },
     "execution_count": 81,
     "metadata": {},
     "output_type": "execute_result"
    }
   ],
   "source": [
    "input_data"
   ]
  },
  {
   "cell_type": "code",
   "execution_count": 82,
   "metadata": {},
   "outputs": [],
   "source": [
    "pivoted_input_data=[[],[],[],[],[]]\n",
    "\n",
    "for reading in input_data:\n",
    "    for idx, val in enumerate(reading):\n",
    "        pivoted_input_data[idx].append(int(val))"
   ]
  },
  {
   "cell_type": "code",
   "execution_count": 83,
   "metadata": {},
   "outputs": [
    {
     "data": {
      "text/plain": [
       "[[0, 1, 1, 1, 1, 0, 0, 1, 1, 1, 0, 0],\n",
       " [0, 1, 0, 0, 0, 1, 0, 1, 0, 1, 0, 1],\n",
       " [1, 1, 1, 1, 1, 1, 1, 1, 0, 0, 0, 0],\n",
       " [0, 1, 1, 1, 0, 1, 1, 0, 0, 0, 1, 1],\n",
       " [0, 0, 0, 1, 1, 1, 1, 0, 0, 1, 0, 0]]"
      ]
     },
     "execution_count": 83,
     "metadata": {},
     "output_type": "execute_result"
    }
   ],
   "source": [
    "pivoted_input_data"
   ]
  },
  {
   "cell_type": "code",
   "execution_count": 84,
   "metadata": {},
   "outputs": [],
   "source": [
    "sigma=0\n",
    "gamma=0\n",
    "binary_sigma=''\n",
    "binary_gamma=''\n",
    "pivoted_input_data.reverse()\n",
    "for idx, position in enumerate(pivoted_input_data):\n",
    "    if position.count(1) > position.count(0):\n",
    "        binary_sigma='0'+binary_sigma\n",
    "        binary_gamma='1'+binary_gamma\n",
    "\n",
    "        sigma=sigma+(0*(2**idx))\n",
    "        gamma=gamma+(1*(2**idx))\n",
    "\n",
    "    else:\n",
    "        binary_sigma='1'+binary_sigma\n",
    "        binary_gamma='0'+binary_gamma\n",
    "\n",
    "        sigma=sigma+(1*(2**idx))\n",
    "        gamma=gamma+(0*(2**idx))"
   ]
  },
  {
   "cell_type": "code",
   "execution_count": 85,
   "metadata": {},
   "outputs": [
    {
     "name": "stdout",
     "output_type": "stream",
     "text": [
      "binary_sigma:  01001 binary_gamma:  10110\n",
      "sigma:  9 gamma:  22\n"
     ]
    }
   ],
   "source": [
    "print('binary_sigma: ',binary_sigma, 'binary_gamma: ', binary_gamma)\n",
    "print('sigma: ',sigma, 'gamma: ', gamma)"
   ]
  },
  {
   "cell_type": "code",
   "execution_count": 87,
   "metadata": {},
   "outputs": [
    {
     "name": "stdout",
     "output_type": "stream",
     "text": [
      "submarine power consumption:  198\n"
     ]
    }
   ],
   "source": [
    "print('submarine power consumption: ', sigma * gamma )"
   ]
  }
 ],
 "metadata": {
  "interpreter": {
   "hash": "50c7046bc8b77d3be188a41196430849870c82c1a88835aaa694fab5992d6cd4"
  },
  "kernelspec": {
   "display_name": "Python 3.7.9 64-bit",
   "language": "python",
   "name": "python3"
  },
  "language_info": {
   "codemirror_mode": {
    "name": "ipython",
    "version": 3
   },
   "file_extension": ".py",
   "mimetype": "text/x-python",
   "name": "python",
   "nbconvert_exporter": "python",
   "pygments_lexer": "ipython3",
   "version": "3.7.9"
  },
  "orig_nbformat": 4
 },
 "nbformat": 4,
 "nbformat_minor": 2
}
