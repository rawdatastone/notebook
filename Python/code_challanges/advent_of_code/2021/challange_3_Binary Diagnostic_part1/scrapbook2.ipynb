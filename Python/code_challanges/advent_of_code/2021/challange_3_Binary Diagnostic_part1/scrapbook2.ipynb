{
 "cells": [
  {
   "cell_type": "code",
   "execution_count": 1,
   "metadata": {},
   "outputs": [],
   "source": [
    "# test case \n",
    "data_input=(\n",
    "'00100',\n",
    "'11110',\n",
    "'10110',\n",
    "'10111',\n",
    "'10101',\n",
    "'01111',\n",
    "'00111',\n",
    "'11100',\n",
    "'10000',\n",
    "'11001',\n",
    "'00010',\n",
    "'01010',\n",
    ")"
   ]
  },
  {
   "cell_type": "code",
   "execution_count": 7,
   "metadata": {},
   "outputs": [
    {
     "name": "stdout",
     "output_type": "stream",
     "text": [
      "[['0', '0', '1', '0', '0'], ['1', '1', '1', '1', '0'], ['1', '0', '1', '1', '0'], ['1', '0', '1', '1', '1'], ['1', '0', '1', '0', '1'], ['0', '1', '1', '1', '1'], ['0', '0', '1', '1', '1'], ['1', '1', '1', '0', '0'], ['1', '0', '0', '0', '0'], ['1', '1', '0', '0', '1'], ['0', '0', '0', '1', '0'], ['0', '1', '0', '1', '0']]\n"
     ]
    }
   ],
   "source": [
    "epsilon=''\n",
    "gamma=''\n",
    "\n",
    "binary_numbers_count = len(data_input)\n",
    "list_of_binary_digits=[]\n",
    "\n",
    "for binary_number in data_input:\n",
    "    list_of_binary_digits.append(list(binary_number))\n",
    "    \n",
    "print(list_of_binary_digits)"
   ]
  },
  {
   "cell_type": "code",
   "execution_count": 6,
   "metadata": {},
   "outputs": [
    {
     "data": {
      "text/plain": [
       "['0', '1', '0', '1', '0']"
      ]
     },
     "execution_count": 6,
     "metadata": {},
     "output_type": "execute_result"
    }
   ],
   "source": [
    "gamma=[]\n",
    "epsilon=[]\n",
    "    \n",
    "for binary_number_list in list_of_binary_digits:\n",
    "    for bit in binary_number:\n",
    "        if bit='1':\n",
    "            "
   ]
  },
  {
   "cell_type": "code",
   "execution_count": 8,
   "metadata": {},
   "outputs": [],
   "source": [
    "slowo_klucz='kot'\n",
    "l=[]\n",
    "for i in slowo_klucz:\n",
    "    l.append([])"
   ]
  },
  {
   "cell_type": "code",
   "execution_count": 13,
   "metadata": {},
   "outputs": [],
   "source": [
    "with open('data_input.txt','r') as f:\n",
    "    data_input=f.readlines()\n",
    "    data_input= [line.rstrip() for line in data_input]"
   ]
  },
  {
   "cell_type": "code",
   "execution_count": 19,
   "metadata": {},
   "outputs": [],
   "source": [
    "l=[]\n",
    "for i in range(len(data_input[0])):\n",
    "    if len(l) < len(data_input[0]):\n",
    "        l.append([])"
   ]
  },
  {
   "cell_type": "code",
   "execution_count": 21,
   "metadata": {},
   "outputs": [
    {
     "data": {
      "text/plain": [
       "12"
      ]
     },
     "execution_count": 21,
     "metadata": {},
     "output_type": "execute_result"
    }
   ],
   "source": [
    "len(l)"
   ]
  }
 ],
 "metadata": {
  "interpreter": {
   "hash": "db496a1cd1228aba41ecf9eb66c3134a0ef9f2216ce1180d7aab97e57b0e59c7"
  },
  "kernelspec": {
   "display_name": "Python 3.9.9 64-bit (windows store)",
   "language": "python",
   "name": "python3"
  },
  "language_info": {
   "codemirror_mode": {
    "name": "ipython",
    "version": 3
   },
   "file_extension": ".py",
   "mimetype": "text/x-python",
   "name": "python",
   "nbconvert_exporter": "python",
   "pygments_lexer": "ipython3",
   "version": "3.7.3"
  },
  "orig_nbformat": 4
 },
 "nbformat": 4,
 "nbformat_minor": 2
}
